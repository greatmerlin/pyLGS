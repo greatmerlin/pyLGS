{
 "cells": [
  {
   "cell_type": "code",
   "execution_count": 1,
   "metadata": {},
   "outputs": [],
   "source": [
    "from sympy import *"
   ]
  },
  {
   "cell_type": "code",
   "execution_count": 2,
   "metadata": {},
   "outputs": [],
   "source": [
    "init_printing()"
   ]
  },
  {
   "cell_type": "code",
   "execution_count": 3,
   "metadata": {},
   "outputs": [],
   "source": [
    "A = Matrix([[4,5,0],[-2,-2,8],[-1,4,3]])"
   ]
  },
  {
   "cell_type": "code",
   "execution_count": 4,
   "metadata": {},
   "outputs": [
    {
     "data": {
      "text/latex": [
       "$$\\left[\\begin{matrix}4 & 5 & 0\\\\-2 & -2 & 8\\\\-1 & 4 & 3\\end{matrix}\\right]$$"
      ],
      "text/plain": [
       "⎡4   5   0⎤\n",
       "⎢         ⎥\n",
       "⎢-2  -2  8⎥\n",
       "⎢         ⎥\n",
       "⎣-1  4   3⎦"
      ]
     },
     "execution_count": 4,
     "metadata": {},
     "output_type": "execute_result"
    }
   ],
   "source": [
    "A"
   ]
  },
  {
   "cell_type": "code",
   "execution_count": 5,
   "metadata": {},
   "outputs": [
    {
     "data": {
      "text/latex": [
       "$$\\left[\\begin{matrix}4 & -2 & -1\\\\5 & -2 & 4\\\\0 & 8 & 3\\end{matrix}\\right]$$"
      ],
      "text/plain": [
       "⎡4  -2  -1⎤\n",
       "⎢         ⎥\n",
       "⎢5  -2  4 ⎥\n",
       "⎢         ⎥\n",
       "⎣0  8   3 ⎦"
      ]
     },
     "execution_count": 5,
     "metadata": {},
     "output_type": "execute_result"
    }
   ],
   "source": [
    "A.T"
   ]
  },
  {
   "cell_type": "code",
   "execution_count": 6,
   "metadata": {},
   "outputs": [
    {
     "data": {
      "text/latex": [
       "$$\\left[\\begin{matrix}4\\\\-2\\\\-1\\end{matrix}\\right]$$"
      ],
      "text/plain": [
       "⎡4 ⎤\n",
       "⎢  ⎥\n",
       "⎢-2⎥\n",
       "⎢  ⎥\n",
       "⎣-1⎦"
      ]
     },
     "execution_count": 6,
     "metadata": {},
     "output_type": "execute_result"
    }
   ],
   "source": [
    "A.col(0)"
   ]
  },
  {
   "cell_type": "code",
   "execution_count": 7,
   "metadata": {},
   "outputs": [
    {
     "data": {
      "text/latex": [
       "$$\\left[\\begin{matrix}4 & 5 & 0\\end{matrix}\\right]$$"
      ],
      "text/plain": [
       "[4  5  0]"
      ]
     },
     "execution_count": 7,
     "metadata": {},
     "output_type": "execute_result"
    }
   ],
   "source": [
    "A.row(0)"
   ]
  },
  {
   "cell_type": "code",
   "execution_count": 9,
   "metadata": {},
   "outputs": [],
   "source": [
    "B = Matrix([[3,-3,2],[6,0,3],[-1,-4,1]])"
   ]
  },
  {
   "cell_type": "code",
   "execution_count": 10,
   "metadata": {},
   "outputs": [
    {
     "data": {
      "text/latex": [
       "$$\\left[\\begin{matrix}3 & -3 & 2\\\\6 & 0 & 3\\\\-1 & -4 & 1\\end{matrix}\\right]$$"
      ],
      "text/plain": [
       "⎡3   -3  2⎤\n",
       "⎢         ⎥\n",
       "⎢6   0   3⎥\n",
       "⎢         ⎥\n",
       "⎣-1  -4  1⎦"
      ]
     },
     "execution_count": 10,
     "metadata": {},
     "output_type": "execute_result"
    }
   ],
   "source": [
    "B"
   ]
  },
  {
   "cell_type": "code",
   "execution_count": 11,
   "metadata": {},
   "outputs": [
    {
     "data": {
      "text/latex": [
       "$$\\left ( \\left[\\begin{matrix}4 & 5 & 0\\\\-2 & -2 & 8\\\\-1 & 4 & 3\\end{matrix}\\right], \\quad \\left[\\begin{matrix}3 & -3 & 2\\\\6 & 0 & 3\\\\-1 & -4 & 1\\end{matrix}\\right]\\right )$$"
      ],
      "text/plain": [
       "⎛⎡4   5   0⎤  ⎡3   -3  2⎤⎞\n",
       "⎜⎢         ⎥  ⎢         ⎥⎟\n",
       "⎜⎢-2  -2  8⎥, ⎢6   0   3⎥⎟\n",
       "⎜⎢         ⎥  ⎢         ⎥⎟\n",
       "⎝⎣-1  4   3⎦  ⎣-1  -4  1⎦⎠"
      ]
     },
     "execution_count": 11,
     "metadata": {},
     "output_type": "execute_result"
    }
   ],
   "source": [
    "A, B"
   ]
  },
  {
   "cell_type": "code",
   "execution_count": 12,
   "metadata": {},
   "outputs": [
    {
     "data": {
      "text/latex": [
       "$$\\left ( \\left[\\begin{matrix}42 & -12 & 23\\\\-26 & -26 & -2\\\\18 & -9 & 13\\end{matrix}\\right], \\quad \\left[\\begin{matrix}42 & -26 & 18\\\\-12 & -26 & -9\\\\23 & -2 & 13\\end{matrix}\\right]\\right )$$"
      ],
      "text/plain": [
       "⎛⎡42   -12  23⎤  ⎡42   -26  18⎤⎞\n",
       "⎜⎢            ⎥  ⎢            ⎥⎟\n",
       "⎜⎢-26  -26  -2⎥, ⎢-12  -26  -9⎥⎟\n",
       "⎜⎢            ⎥  ⎢            ⎥⎟\n",
       "⎝⎣18   -9   13⎦  ⎣23   -2   13⎦⎠"
      ]
     },
     "execution_count": 12,
     "metadata": {},
     "output_type": "execute_result"
    }
   ],
   "source": [
    "A * B, (A * B).T"
   ]
  },
  {
   "cell_type": "code",
   "execution_count": 13,
   "metadata": {},
   "outputs": [
    {
     "data": {
      "text/latex": [
       "$$\\left ( \\left[\\begin{matrix}4 & -2 & -1\\\\5 & -2 & 4\\\\0 & 8 & 3\\end{matrix}\\right], \\quad \\left[\\begin{matrix}3 & 6 & -1\\\\-3 & 0 & -4\\\\2 & 3 & 1\\end{matrix}\\right]\\right )$$"
      ],
      "text/plain": [
       "⎛⎡4  -2  -1⎤  ⎡3   6  -1⎤⎞\n",
       "⎜⎢         ⎥  ⎢         ⎥⎟\n",
       "⎜⎢5  -2  4 ⎥, ⎢-3  0  -4⎥⎟\n",
       "⎜⎢         ⎥  ⎢         ⎥⎟\n",
       "⎝⎣0  8   3 ⎦  ⎣2   3  1 ⎦⎠"
      ]
     },
     "execution_count": 13,
     "metadata": {},
     "output_type": "execute_result"
    }
   ],
   "source": [
    "A.T, B.T"
   ]
  },
  {
   "cell_type": "code",
   "execution_count": 14,
   "metadata": {},
   "outputs": [
    {
     "data": {
      "text/latex": [
       "$$\\left[\\begin{matrix}42 & -26 & 18\\\\-12 & -26 & -9\\\\23 & -2 & 13\\end{matrix}\\right]$$"
      ],
      "text/plain": [
       "⎡42   -26  18⎤\n",
       "⎢            ⎥\n",
       "⎢-12  -26  -9⎥\n",
       "⎢            ⎥\n",
       "⎣23   -2   13⎦"
      ]
     },
     "execution_count": 14,
     "metadata": {},
     "output_type": "execute_result"
    }
   ],
   "source": [
    "B.T * A.T"
   ]
  },
  {
   "cell_type": "code",
   "execution_count": null,
   "metadata": {},
   "outputs": [],
   "source": []
  }
 ],
 "metadata": {
  "kernelspec": {
   "display_name": "Python 3",
   "language": "python",
   "name": "python3"
  },
  "language_info": {
   "codemirror_mode": {
    "name": "ipython",
    "version": 3
   },
   "file_extension": ".py",
   "mimetype": "text/x-python",
   "name": "python",
   "nbconvert_exporter": "python",
   "pygments_lexer": "ipython3",
   "version": "3.7.1"
  }
 },
 "nbformat": 4,
 "nbformat_minor": 2
}
